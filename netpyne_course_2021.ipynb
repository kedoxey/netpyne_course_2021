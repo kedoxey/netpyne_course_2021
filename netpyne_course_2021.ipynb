{
  "nbformat": 4,
  "nbformat_minor": 0,
  "metadata": {
    "colab": {
      "name": "netpyne_course_2021.ipynb",
      "provenance": [],
      "authorship_tag": "ABX9TyPngNN7IeCdyr30SrnppEc2",
      "include_colab_link": true
    },
    "kernelspec": {
      "name": "python3",
      "display_name": "Python 3"
    },
    "language_info": {
      "name": "python"
    }
  },
  "cells": [
    {
      "cell_type": "markdown",
      "metadata": {
        "id": "view-in-github",
        "colab_type": "text"
      },
      "source": [
        "<a href=\"https://colab.research.google.com/github/kedoxey/netpyne_course_2021/blob/main/netpyne_course_2021.ipynb\" target=\"_parent\"><img src=\"https://colab.research.google.com/assets/colab-badge.svg\" alt=\"Open In Colab\"/></a>"
      ]
    },
    {
      "cell_type": "markdown",
      "metadata": {
        "id": "j9IKJQM1tp0s"
      },
      "source": [
        "# NetPyNE Course 2021\n",
        "## Working with Colab"
      ]
    },
    {
      "cell_type": "markdown",
      "metadata": {
        "id": "KRYcbbhpuHYH"
      },
      "source": [
        "## Install NEURON"
      ]
    },
    {
      "cell_type": "code",
      "metadata": {
        "colab": {
          "base_uri": "https://localhost:8080/"
        },
        "id": "sBDKWasMte_K",
        "outputId": "3d5f25d9-4838-4934-ce17-55c6c1a26670"
      },
      "source": [
        "!pip install neuron"
      ],
      "execution_count": 2,
      "outputs": [
        {
          "output_type": "stream",
          "text": [
            "Collecting neuron\n",
            "\u001b[?25l  Downloading https://files.pythonhosted.org/packages/14/f4/ea50608c7633c286859d6cce0aad621da22a8da7ff9787efc8bb71fe0597/NEURON-8.0.0-cp37-cp37m-manylinux1_x86_64.whl (12.6MB)\n",
            "\u001b[K     |████████████████████████████████| 12.6MB 14.3MB/s \n",
            "\u001b[?25hRequirement already satisfied: numpy>=1.9.3 in /usr/local/lib/python3.7/dist-packages (from neuron) (1.19.5)\n",
            "Installing collected packages: neuron\n",
            "Successfully installed neuron-8.0.0\n"
          ],
          "name": "stdout"
        }
      ]
    },
    {
      "cell_type": "code",
      "metadata": {
        "colab": {
          "base_uri": "https://localhost:8080/"
        },
        "id": "6ypAQUFTt3jN",
        "outputId": "fd23b4e9-b24c-4cce-d485-bf9268a04940"
      },
      "source": [
        "!which nrnivmodl"
      ],
      "execution_count": 3,
      "outputs": [
        {
          "output_type": "stream",
          "text": [
            "/usr/local/bin/nrnivmodl\n"
          ],
          "name": "stdout"
        }
      ]
    },
    {
      "cell_type": "markdown",
      "metadata": {
        "id": "844pT1UjuCT8"
      },
      "source": [
        "## Install NetPyNE"
      ]
    },
    {
      "cell_type": "code",
      "metadata": {
        "colab": {
          "base_uri": "https://localhost:8080/"
        },
        "id": "Dyb0ASQcuEvW",
        "outputId": "ad524360-2229-4574-f67c-e4dce6553577"
      },
      "source": [
        "!pip install netpyne"
      ],
      "execution_count": 4,
      "outputs": [
        {
          "output_type": "stream",
          "text": [
            "Collecting netpyne\n",
            "\u001b[?25l  Downloading https://files.pythonhosted.org/packages/9e/24/0f9d685a3fbcbca0d86d9ca6521465c43725d9e23760c91524fe77191f12/netpyne-1.0.0.2-py2.py3-none-any.whl (312kB)\n",
            "\r\u001b[K     |█                               | 10kB 16.9MB/s eta 0:00:01\r\u001b[K     |██                              | 20kB 22.7MB/s eta 0:00:01\r\u001b[K     |███▏                            | 30kB 26.0MB/s eta 0:00:01\r\u001b[K     |████▏                           | 40kB 27.7MB/s eta 0:00:01\r\u001b[K     |█████▎                          | 51kB 30.1MB/s eta 0:00:01\r\u001b[K     |██████▎                         | 61kB 32.8MB/s eta 0:00:01\r\u001b[K     |███████▍                        | 71kB 30.5MB/s eta 0:00:01\r\u001b[K     |████████▍                       | 81kB 30.6MB/s eta 0:00:01\r\u001b[K     |█████████▍                      | 92kB 29.6MB/s eta 0:00:01\r\u001b[K     |██████████▌                     | 102kB 30.9MB/s eta 0:00:01\r\u001b[K     |███████████▌                    | 112kB 30.9MB/s eta 0:00:01\r\u001b[K     |████████████▋                   | 122kB 30.9MB/s eta 0:00:01\r\u001b[K     |█████████████▋                  | 133kB 30.9MB/s eta 0:00:01\r\u001b[K     |██████████████▊                 | 143kB 30.9MB/s eta 0:00:01\r\u001b[K     |███████████████▊                | 153kB 30.9MB/s eta 0:00:01\r\u001b[K     |████████████████▉               | 163kB 30.9MB/s eta 0:00:01\r\u001b[K     |█████████████████▉              | 174kB 30.9MB/s eta 0:00:01\r\u001b[K     |██████████████████▉             | 184kB 30.9MB/s eta 0:00:01\r\u001b[K     |████████████████████            | 194kB 30.9MB/s eta 0:00:01\r\u001b[K     |█████████████████████           | 204kB 30.9MB/s eta 0:00:01\r\u001b[K     |██████████████████████          | 215kB 30.9MB/s eta 0:00:01\r\u001b[K     |███████████████████████         | 225kB 30.9MB/s eta 0:00:01\r\u001b[K     |████████████████████████▏       | 235kB 30.9MB/s eta 0:00:01\r\u001b[K     |█████████████████████████▏      | 245kB 30.9MB/s eta 0:00:01\r\u001b[K     |██████████████████████████▎     | 256kB 30.9MB/s eta 0:00:01\r\u001b[K     |███████████████████████████▎    | 266kB 30.9MB/s eta 0:00:01\r\u001b[K     |████████████████████████████▎   | 276kB 30.9MB/s eta 0:00:01\r\u001b[K     |█████████████████████████████▍  | 286kB 30.9MB/s eta 0:00:01\r\u001b[K     |██████████████████████████████▍ | 296kB 30.9MB/s eta 0:00:01\r\u001b[K     |███████████████████████████████▌| 307kB 30.9MB/s eta 0:00:01\r\u001b[K     |████████████████████████████████| 317kB 30.9MB/s \n",
            "\u001b[?25hRequirement already satisfied: scipy in /usr/local/lib/python3.7/dist-packages (from netpyne) (1.4.1)\n",
            "Requirement already satisfied: pandas in /usr/local/lib/python3.7/dist-packages (from netpyne) (1.1.5)\n",
            "Requirement already satisfied: future in /usr/local/lib/python3.7/dist-packages (from netpyne) (0.16.0)\n",
            "Requirement already satisfied: bokeh in /usr/local/lib/python3.7/dist-packages (from netpyne) (2.3.2)\n",
            "Requirement already satisfied: matplotlib in /usr/local/lib/python3.7/dist-packages (from netpyne) (3.2.2)\n",
            "Collecting matplotlib-scalebar\n",
            "  Downloading https://files.pythonhosted.org/packages/51/a4/cd254234c35f3591361988e89ab132ee14789f2ebe1ede621d63f5241f00/matplotlib_scalebar-0.7.2-py2.py3-none-any.whl\n",
            "Requirement already satisfied: numpy in /usr/local/lib/python3.7/dist-packages (from netpyne) (1.19.5)\n",
            "Requirement already satisfied: pytz>=2017.2 in /usr/local/lib/python3.7/dist-packages (from pandas->netpyne) (2018.9)\n",
            "Requirement already satisfied: python-dateutil>=2.7.3 in /usr/local/lib/python3.7/dist-packages (from pandas->netpyne) (2.8.1)\n",
            "Requirement already satisfied: tornado>=5.1 in /usr/local/lib/python3.7/dist-packages (from bokeh->netpyne) (5.1.1)\n",
            "Requirement already satisfied: packaging>=16.8 in /usr/local/lib/python3.7/dist-packages (from bokeh->netpyne) (20.9)\n",
            "Requirement already satisfied: Jinja2>=2.9 in /usr/local/lib/python3.7/dist-packages (from bokeh->netpyne) (2.11.3)\n",
            "Requirement already satisfied: typing-extensions>=3.7.4 in /usr/local/lib/python3.7/dist-packages (from bokeh->netpyne) (3.7.4.3)\n",
            "Requirement already satisfied: PyYAML>=3.10 in /usr/local/lib/python3.7/dist-packages (from bokeh->netpyne) (3.13)\n",
            "Requirement already satisfied: pillow>=7.1.0 in /usr/local/lib/python3.7/dist-packages (from bokeh->netpyne) (7.1.2)\n",
            "Requirement already satisfied: kiwisolver>=1.0.1 in /usr/local/lib/python3.7/dist-packages (from matplotlib->netpyne) (1.3.1)\n",
            "Requirement already satisfied: cycler>=0.10 in /usr/local/lib/python3.7/dist-packages (from matplotlib->netpyne) (0.10.0)\n",
            "Requirement already satisfied: pyparsing!=2.0.4,!=2.1.2,!=2.1.6,>=2.0.1 in /usr/local/lib/python3.7/dist-packages (from matplotlib->netpyne) (2.4.7)\n",
            "Requirement already satisfied: six>=1.5 in /usr/local/lib/python3.7/dist-packages (from python-dateutil>=2.7.3->pandas->netpyne) (1.15.0)\n",
            "Requirement already satisfied: MarkupSafe>=0.23 in /usr/local/lib/python3.7/dist-packages (from Jinja2>=2.9->bokeh->netpyne) (2.0.0)\n",
            "Installing collected packages: matplotlib-scalebar, netpyne\n",
            "Successfully installed matplotlib-scalebar-0.7.2 netpyne-1.0.0.2\n"
          ],
          "name": "stdout"
        }
      ]
    },
    {
      "cell_type": "code",
      "metadata": {
        "id": "_96v1z04uGdN"
      },
      "source": [
        "import neuron"
      ],
      "execution_count": 6,
      "outputs": []
    },
    {
      "cell_type": "code",
      "metadata": {
        "id": "n0gtR1xzuLBk"
      },
      "source": [
        "import netpyne"
      ],
      "execution_count": 7,
      "outputs": []
    },
    {
      "cell_type": "code",
      "metadata": {
        "id": "3EDzGwEcuQsL"
      },
      "source": [
        ""
      ],
      "execution_count": null,
      "outputs": []
    }
  ]
}